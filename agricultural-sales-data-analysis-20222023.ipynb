{
 "cells": [
  {
   "cell_type": "markdown",
   "id": "9210232b",
   "metadata": {
    "papermill": {
     "duration": 0.006419,
     "end_time": "2024-09-20T15:33:52.081170",
     "exception": false,
     "start_time": "2024-09-20T15:33:52.074751",
     "status": "completed"
    },
    "tags": []
   },
   "source": [
    "Agricultural products are the backbone of many economies, and understanding their sales data can provide valuable insights into market trends, supply chain efficiency, and consumer preferences. In this notebook, we will explore the Agricultural Products Sales Data for the years 2022-2023. If you find this notebook useful, please consider upvoting it."
   ]
  },
  {
   "cell_type": "code",
   "execution_count": 1,
   "id": "7b5153b4",
   "metadata": {
    "execution": {
     "iopub.execute_input": "2024-09-20T15:33:52.095133Z",
     "iopub.status.busy": "2024-09-20T15:33:52.094648Z",
     "iopub.status.idle": "2024-09-20T15:33:52.108026Z",
     "shell.execute_reply": "2024-09-20T15:33:52.106584Z"
    },
    "papermill": {
     "duration": 0.023971,
     "end_time": "2024-09-20T15:33:52.111191",
     "exception": false,
     "start_time": "2024-09-20T15:33:52.087220",
     "status": "completed"
    },
    "tags": []
   },
   "outputs": [],
   "source": [
    "# Suppress warnings\n",
    "import warnings\n",
    "warnings.filterwarnings('ignore')"
   ]
  },
  {
   "cell_type": "code",
   "execution_count": 2,
   "id": "f0b17300",
   "metadata": {
    "execution": {
     "iopub.execute_input": "2024-09-20T15:33:52.124802Z",
     "iopub.status.busy": "2024-09-20T15:33:52.124319Z",
     "iopub.status.idle": "2024-09-20T15:33:55.090807Z",
     "shell.execute_reply": "2024-09-20T15:33:55.089209Z"
    },
    "papermill": {
     "duration": 2.976911,
     "end_time": "2024-09-20T15:33:55.093939",
     "exception": false,
     "start_time": "2024-09-20T15:33:52.117028",
     "status": "completed"
    },
    "tags": []
   },
   "outputs": [],
   "source": [
    "# Import necessary libraries\n",
    "import pandas as pd\n",
    "import numpy as np\n",
    "import matplotlib.pyplot as plt\n",
    "import seaborn as sns\n",
    "from sklearn.model_selection import train_test_split\n",
    "from sklearn.linear_model import LinearRegression\n",
    "from sklearn.metrics import mean_squared_error, r2_score"
   ]
  },
  {
   "cell_type": "code",
   "execution_count": 3,
   "id": "7e954101",
   "metadata": {
    "execution": {
     "iopub.execute_input": "2024-09-20T15:33:55.108679Z",
     "iopub.status.busy": "2024-09-20T15:33:55.108028Z",
     "iopub.status.idle": "2024-09-20T15:33:55.184742Z",
     "shell.execute_reply": "2024-09-20T15:33:55.183217Z"
    },
    "papermill": {
     "duration": 0.088049,
     "end_time": "2024-09-20T15:33:55.187951",
     "exception": false,
     "start_time": "2024-09-20T15:33:55.099902",
     "status": "completed"
    },
    "tags": []
   },
   "outputs": [],
   "source": [
    "# Load the dataset\n",
    "file_path = '/kaggle/input/agricultural-products-sales-data-2022-2023/AgricultureData.csv'\n",
    "df = pd.read_csv(file_path)"
   ]
  },
  {
   "cell_type": "markdown",
   "id": "b641ac90",
   "metadata": {
    "papermill": {
     "duration": 0.00557,
     "end_time": "2024-09-20T15:33:55.199506",
     "exception": false,
     "start_time": "2024-09-20T15:33:55.193936",
     "status": "completed"
    },
    "tags": []
   },
   "source": [
    "### Initial Data Exploration"
   ]
  },
  {
   "cell_type": "code",
   "execution_count": 4,
   "id": "3695fad2",
   "metadata": {
    "execution": {
     "iopub.execute_input": "2024-09-20T15:33:55.213681Z",
     "iopub.status.busy": "2024-09-20T15:33:55.213202Z",
     "iopub.status.idle": "2024-09-20T15:33:55.244025Z",
     "shell.execute_reply": "2024-09-20T15:33:55.242729Z"
    },
    "papermill": {
     "duration": 0.04101,
     "end_time": "2024-09-20T15:33:55.246922",
     "exception": false,
     "start_time": "2024-09-20T15:33:55.205912",
     "status": "completed"
    },
    "tags": []
   },
   "outputs": [
    {
     "data": {
      "text/html": [
       "<div>\n",
       "<style scoped>\n",
       "    .dataframe tbody tr th:only-of-type {\n",
       "        vertical-align: middle;\n",
       "    }\n",
       "\n",
       "    .dataframe tbody tr th {\n",
       "        vertical-align: top;\n",
       "    }\n",
       "\n",
       "    .dataframe thead th {\n",
       "        text-align: right;\n",
       "    }\n",
       "</style>\n",
       "<table border=\"1\" class=\"dataframe\">\n",
       "  <thead>\n",
       "    <tr style=\"text-align: right;\">\n",
       "      <th></th>\n",
       "      <th>product_id</th>\n",
       "      <th>product_name</th>\n",
       "      <th>category</th>\n",
       "      <th>price_per_kg</th>\n",
       "      <th>units_shipped_kg</th>\n",
       "      <th>units_sold_kg</th>\n",
       "      <th>units_on_hand_kg</th>\n",
       "      <th>supplier</th>\n",
       "      <th>farm_location</th>\n",
       "      <th>sale_date</th>\n",
       "    </tr>\n",
       "  </thead>\n",
       "  <tbody>\n",
       "    <tr>\n",
       "      <th>0</th>\n",
       "      <td>b12c721e-8301-4b08-8ac3-d435be9b8b32</td>\n",
       "      <td>Lamb</td>\n",
       "      <td>Livestock</td>\n",
       "      <td>14.10</td>\n",
       "      <td>19224</td>\n",
       "      <td>14905</td>\n",
       "      <td>4319</td>\n",
       "      <td>Organic Meats Co.</td>\n",
       "      <td>O'Reillyboro, OR</td>\n",
       "      <td>2022-07-04</td>\n",
       "    </tr>\n",
       "    <tr>\n",
       "      <th>1</th>\n",
       "      <td>4a0f8862-c851-4073-bc17-3a3d93834902</td>\n",
       "      <td>Beef</td>\n",
       "      <td>Livestock</td>\n",
       "      <td>11.37</td>\n",
       "      <td>29504</td>\n",
       "      <td>4550</td>\n",
       "      <td>24954</td>\n",
       "      <td>Organic Meats Co.</td>\n",
       "      <td>Lake Nora, AR</td>\n",
       "      <td>2023-10-21</td>\n",
       "    </tr>\n",
       "    <tr>\n",
       "      <th>2</th>\n",
       "      <td>be996df6-1780-4352-8b7d-1f927279aa49</td>\n",
       "      <td>Oranges</td>\n",
       "      <td>Fruits</td>\n",
       "      <td>2.59</td>\n",
       "      <td>1838</td>\n",
       "      <td>1722</td>\n",
       "      <td>116</td>\n",
       "      <td>Berry Fields</td>\n",
       "      <td>East Friedaside, NM</td>\n",
       "      <td>2023-12-24</td>\n",
       "    </tr>\n",
       "    <tr>\n",
       "      <th>3</th>\n",
       "      <td>6c8adfc3-2114-4b78-a3e2-2269a6a0dc02</td>\n",
       "      <td>Milk</td>\n",
       "      <td>Dairy</td>\n",
       "      <td>1.34</td>\n",
       "      <td>6750</td>\n",
       "      <td>1232</td>\n",
       "      <td>5518</td>\n",
       "      <td>Fresh Dairy Farms</td>\n",
       "      <td>East Javon, FL</td>\n",
       "      <td>2023-12-25</td>\n",
       "    </tr>\n",
       "    <tr>\n",
       "      <th>4</th>\n",
       "      <td>0bd5bf2b-be0a-4ba0-aa92-059021b169e3</td>\n",
       "      <td>Bananas</td>\n",
       "      <td>Fruits</td>\n",
       "      <td>1.78</td>\n",
       "      <td>48729</td>\n",
       "      <td>47020</td>\n",
       "      <td>1709</td>\n",
       "      <td>Golden Orchards</td>\n",
       "      <td>Lake D'angelo, MN</td>\n",
       "      <td>2023-06-20</td>\n",
       "    </tr>\n",
       "  </tbody>\n",
       "</table>\n",
       "</div>"
      ],
      "text/plain": [
       "                             product_id product_name   category  price_per_kg  \\\n",
       "0  b12c721e-8301-4b08-8ac3-d435be9b8b32         Lamb  Livestock         14.10   \n",
       "1  4a0f8862-c851-4073-bc17-3a3d93834902         Beef  Livestock         11.37   \n",
       "2  be996df6-1780-4352-8b7d-1f927279aa49      Oranges     Fruits          2.59   \n",
       "3  6c8adfc3-2114-4b78-a3e2-2269a6a0dc02         Milk      Dairy          1.34   \n",
       "4  0bd5bf2b-be0a-4ba0-aa92-059021b169e3      Bananas     Fruits          1.78   \n",
       "\n",
       "   units_shipped_kg  units_sold_kg  units_on_hand_kg           supplier  \\\n",
       "0             19224          14905              4319  Organic Meats Co.   \n",
       "1             29504           4550             24954  Organic Meats Co.   \n",
       "2              1838           1722               116       Berry Fields   \n",
       "3              6750           1232              5518  Fresh Dairy Farms   \n",
       "4             48729          47020              1709    Golden Orchards   \n",
       "\n",
       "         farm_location   sale_date  \n",
       "0     O'Reillyboro, OR  2022-07-04  \n",
       "1        Lake Nora, AR  2023-10-21  \n",
       "2  East Friedaside, NM  2023-12-24  \n",
       "3       East Javon, FL  2023-12-25  \n",
       "4    Lake D'angelo, MN  2023-06-20  "
      ]
     },
     "execution_count": 4,
     "metadata": {},
     "output_type": "execute_result"
    }
   ],
   "source": [
    "# Display the first few rows of the dataset\n",
    "df.head()"
   ]
  },
  {
   "cell_type": "markdown",
   "id": "8023632f",
   "metadata": {
    "papermill": {
     "duration": 0.006023,
     "end_time": "2024-09-20T15:33:55.259290",
     "exception": false,
     "start_time": "2024-09-20T15:33:55.253267",
     "status": "completed"
    },
    "tags": []
   },
   "source": [
    "### Data Preprocessing"
   ]
  },
  {
   "cell_type": "code",
   "execution_count": 5,
   "id": "781b0e19",
   "metadata": {
    "execution": {
     "iopub.execute_input": "2024-09-20T15:33:55.273679Z",
     "iopub.status.busy": "2024-09-20T15:33:55.273200Z",
     "iopub.status.idle": "2024-09-20T15:33:55.291973Z",
     "shell.execute_reply": "2024-09-20T15:33:55.290697Z"
    },
    "papermill": {
     "duration": 0.029716,
     "end_time": "2024-09-20T15:33:55.295164",
     "exception": false,
     "start_time": "2024-09-20T15:33:55.265448",
     "status": "completed"
    },
    "tags": []
   },
   "outputs": [],
   "source": [
    "# Convert sale_date to datetime format\n",
    "df['sale_date'] = pd.to_datetime(df['sale_date'])"
   ]
  },
  {
   "cell_type": "markdown",
   "id": "90081995",
   "metadata": {
    "papermill": {
     "duration": 0.006245,
     "end_time": "2024-09-20T15:33:55.308553",
     "exception": false,
     "start_time": "2024-09-20T15:33:55.302308",
     "status": "completed"
    },
    "tags": []
   },
   "source": [
    "### Exploratory Data Analysis (EDA)"
   ]
  },
  {
   "cell_type": "code",
   "execution_count": 6,
   "id": "3b8fc370",
   "metadata": {
    "execution": {
     "iopub.execute_input": "2024-09-20T15:33:55.323299Z",
     "iopub.status.busy": "2024-09-20T15:33:55.322871Z",
     "iopub.status.idle": "2024-09-20T15:33:55.364786Z",
     "shell.execute_reply": "2024-09-20T15:33:55.363492Z"
    },
    "papermill": {
     "duration": 0.052749,
     "end_time": "2024-09-20T15:33:55.367581",
     "exception": false,
     "start_time": "2024-09-20T15:33:55.314832",
     "status": "completed"
    },
    "tags": []
   },
   "outputs": [
    {
     "data": {
      "text/html": [
       "<div>\n",
       "<style scoped>\n",
       "    .dataframe tbody tr th:only-of-type {\n",
       "        vertical-align: middle;\n",
       "    }\n",
       "\n",
       "    .dataframe tbody tr th {\n",
       "        vertical-align: top;\n",
       "    }\n",
       "\n",
       "    .dataframe thead th {\n",
       "        text-align: right;\n",
       "    }\n",
       "</style>\n",
       "<table border=\"1\" class=\"dataframe\">\n",
       "  <thead>\n",
       "    <tr style=\"text-align: right;\">\n",
       "      <th></th>\n",
       "      <th>price_per_kg</th>\n",
       "      <th>units_shipped_kg</th>\n",
       "      <th>units_sold_kg</th>\n",
       "      <th>units_on_hand_kg</th>\n",
       "      <th>sale_date</th>\n",
       "    </tr>\n",
       "  </thead>\n",
       "  <tbody>\n",
       "    <tr>\n",
       "      <th>count</th>\n",
       "      <td>8893.000000</td>\n",
       "      <td>8893.000000</td>\n",
       "      <td>8893.000000</td>\n",
       "      <td>8893.000000</td>\n",
       "      <td>8893</td>\n",
       "    </tr>\n",
       "    <tr>\n",
       "      <th>mean</th>\n",
       "      <td>3.641478</td>\n",
       "      <td>25471.785562</td>\n",
       "      <td>12545.278421</td>\n",
       "      <td>12926.507140</td>\n",
       "      <td>2022-12-30 08:49:00.559990784</td>\n",
       "    </tr>\n",
       "    <tr>\n",
       "      <th>min</th>\n",
       "      <td>0.400000</td>\n",
       "      <td>1005.000000</td>\n",
       "      <td>0.000000</td>\n",
       "      <td>0.000000</td>\n",
       "      <td>2022-01-01 00:00:00</td>\n",
       "    </tr>\n",
       "    <tr>\n",
       "      <th>25%</th>\n",
       "      <td>0.970000</td>\n",
       "      <td>13228.000000</td>\n",
       "      <td>3642.000000</td>\n",
       "      <td>3890.000000</td>\n",
       "      <td>2022-06-27 00:00:00</td>\n",
       "    </tr>\n",
       "    <tr>\n",
       "      <th>50%</th>\n",
       "      <td>2.680000</td>\n",
       "      <td>25468.000000</td>\n",
       "      <td>9643.000000</td>\n",
       "      <td>9805.000000</td>\n",
       "      <td>2022-12-31 00:00:00</td>\n",
       "    </tr>\n",
       "    <tr>\n",
       "      <th>75%</th>\n",
       "      <td>5.300000</td>\n",
       "      <td>37964.000000</td>\n",
       "      <td>18832.000000</td>\n",
       "      <td>19622.000000</td>\n",
       "      <td>2023-07-03 00:00:00</td>\n",
       "    </tr>\n",
       "    <tr>\n",
       "      <th>max</th>\n",
       "      <td>14.390000</td>\n",
       "      <td>50000.000000</td>\n",
       "      <td>49726.000000</td>\n",
       "      <td>49818.000000</td>\n",
       "      <td>2023-12-31 00:00:00</td>\n",
       "    </tr>\n",
       "    <tr>\n",
       "      <th>std</th>\n",
       "      <td>3.306348</td>\n",
       "      <td>14177.334372</td>\n",
       "      <td>10772.529049</td>\n",
       "      <td>10996.124845</td>\n",
       "      <td>NaN</td>\n",
       "    </tr>\n",
       "  </tbody>\n",
       "</table>\n",
       "</div>"
      ],
      "text/plain": [
       "       price_per_kg  units_shipped_kg  units_sold_kg  units_on_hand_kg  \\\n",
       "count   8893.000000       8893.000000    8893.000000       8893.000000   \n",
       "mean       3.641478      25471.785562   12545.278421      12926.507140   \n",
       "min        0.400000       1005.000000       0.000000          0.000000   \n",
       "25%        0.970000      13228.000000    3642.000000       3890.000000   \n",
       "50%        2.680000      25468.000000    9643.000000       9805.000000   \n",
       "75%        5.300000      37964.000000   18832.000000      19622.000000   \n",
       "max       14.390000      50000.000000   49726.000000      49818.000000   \n",
       "std        3.306348      14177.334372   10772.529049      10996.124845   \n",
       "\n",
       "                           sale_date  \n",
       "count                           8893  \n",
       "mean   2022-12-30 08:49:00.559990784  \n",
       "min              2022-01-01 00:00:00  \n",
       "25%              2022-06-27 00:00:00  \n",
       "50%              2022-12-31 00:00:00  \n",
       "75%              2023-07-03 00:00:00  \n",
       "max              2023-12-31 00:00:00  \n",
       "std                              NaN  "
      ]
     },
     "execution_count": 6,
     "metadata": {},
     "output_type": "execute_result"
    }
   ],
   "source": [
    "# Summary statistics\n",
    "df.describe()"
   ]
  },
  {
   "cell_type": "code",
   "execution_count": 7,
   "id": "f34ee24e",
   "metadata": {
    "execution": {
     "iopub.execute_input": "2024-09-20T15:33:55.383414Z",
     "iopub.status.busy": "2024-09-20T15:33:55.382543Z",
     "iopub.status.idle": "2024-09-20T15:33:55.697768Z",
     "shell.execute_reply": "2024-09-20T15:33:55.696440Z"
    },
    "papermill": {
     "duration": 0.326094,
     "end_time": "2024-09-20T15:33:55.700388",
     "exception": false,
     "start_time": "2024-09-20T15:33:55.374294",
     "status": "completed"
    },
    "tags": []
   },
   "outputs": [
    {
     "data": {
      "image/png": "[encoded data removed]",
      "text/plain": [
       "<Figure size 1000x600 with 1 Axes>"
      ]
     },
     "metadata": {},
     "output_type": "display_data"
    }
   ],
   "source": [
    "# Distribution of product categories\n",
    "plt.figure(figsize=(10, 6))\n",
    "sns.countplot(data=df, x='category')\n",
    "plt.title('Distribution of Product Categories')\n",
    "plt.xticks(rotation=45)\n",
    "plt.show()"
   ]
  },
  {
   "cell_type": "code",
   "execution_count": 8,
   "id": "efb37ebc",
   "metadata": {
    "execution": {
     "iopub.execute_input": "2024-09-20T15:33:55.718349Z",
     "iopub.status.busy": "2024-09-20T15:33:55.717925Z",
     "iopub.status.idle": "2024-09-20T15:33:56.040497Z",
     "shell.execute_reply": "2024-09-20T15:33:56.039044Z"
    },
    "papermill": {
     "duration": 0.334941,
     "end_time": "2024-09-20T15:33:56.043514",
     "exception": false,
     "start_time": "2024-09-20T15:33:55.708573",
     "status": "completed"
    },
    "tags": []
   },
   "outputs": [
    {
     "data": {
      "image/png": "[encoded data removed]",
      "text/plain": [
       "<Figure size 1000x600 with 2 Axes>"
      ]
     },
     "metadata": {},
     "output_type": "display_data"
    }
   ],
   "source": [
    "# Correlation heatmap\n",
    "numeric_df = df.select_dtypes(include=[np.number])\n",
    "plt.figure(figsize=(10, 6))\n",
    "sns.heatmap(numeric_df.corr(), annot=True, cmap='coolwarm')\n",
    "plt.title('Correlation Heatmap')\n",
    "plt.show()"
   ]
  },
  {
   "cell_type": "markdown",
   "id": "26079f86",
   "metadata": {
    "papermill": {
     "duration": 0.008256,
     "end_time": "2024-09-20T15:33:56.060079",
     "exception": false,
     "start_time": "2024-09-20T15:33:56.051823",
     "status": "completed"
    },
    "tags": []
   },
   "source": [
    "### Predictive Analysis\n",
    "Given the data, it might be interesting to predict the units sold based on other features. Let's build a simple linear regression model to predict `units_sold_kg`."
   ]
  },
  {
   "cell_type": "code",
   "execution_count": 9,
   "id": "35763526",
   "metadata": {
    "execution": {
     "iopub.execute_input": "2024-09-20T15:33:56.080655Z",
     "iopub.status.busy": "2024-09-20T15:33:56.079670Z",
     "iopub.status.idle": "2024-09-20T15:33:56.088707Z",
     "shell.execute_reply": "2024-09-20T15:33:56.087320Z"
    },
    "papermill": {
     "duration": 0.022748,
     "end_time": "2024-09-20T15:33:56.091487",
     "exception": false,
     "start_time": "2024-09-20T15:33:56.068739",
     "status": "completed"
    },
    "tags": []
   },
   "outputs": [],
   "source": [
    "# Define features and target variable\n",
    "X = numeric_df.drop(columns=['units_sold_kg'])\n",
    "y = numeric_df['units_sold_kg']"
   ]
  },
  {
   "cell_type": "code",
   "execution_count": 10,
   "id": "a87901a6",
   "metadata": {
    "execution": {
     "iopub.execute_input": "2024-09-20T15:33:56.109915Z",
     "iopub.status.busy": "2024-09-20T15:33:56.109443Z",
     "iopub.status.idle": "2024-09-20T15:33:56.120829Z",
     "shell.execute_reply": "2024-09-20T15:33:56.119728Z"
    },
    "papermill": {
     "duration": 0.023766,
     "end_time": "2024-09-20T15:33:56.123517",
     "exception": false,
     "start_time": "2024-09-20T15:33:56.099751",
     "status": "completed"
    },
    "tags": []
   },
   "outputs": [],
   "source": [
    "# Split the data into training and testing sets\n",
    "X_train, X_test, y_train, y_test = train_test_split(X, y, test_size=0.2, random_state=42)"
   ]
  },
  {
   "cell_type": "code",
   "execution_count": 11,
   "id": "665951f1",
   "metadata": {
    "execution": {
     "iopub.execute_input": "2024-09-20T15:33:56.142704Z",
     "iopub.status.busy": "2024-09-20T15:33:56.141703Z",
     "iopub.status.idle": "2024-09-20T15:33:56.181903Z",
     "shell.execute_reply": "2024-09-20T15:33:56.180552Z"
    },
    "papermill": {
     "duration": 0.052783,
     "end_time": "2024-09-20T15:33:56.184768",
     "exception": false,
     "start_time": "2024-09-20T15:33:56.131985",
     "status": "completed"
    },
    "tags": []
   },
   "outputs": [
    {
     "data": {
      "text/html": [
       "<style>#sk-container-id-1 {color: black;background-color: white;}#sk-container-id-1 pre{padding: 0;}#sk-container-id-1 div.sk-toggleable {background-color: white;}#sk-container-id-1 label.sk-toggleable__label {cursor: pointer;display: block;width: 100%;margin-bottom: 0;padding: 0.3em;box-sizing: border-box;text-align: center;}#sk-container-id-1 label.sk-toggleable__label-arrow:before {content: \"▸\";float: left;margin-right: 0.25em;color: #696969;}#sk-container-id-1 label.sk-toggleable__label-arrow:hover:before {color: black;}#sk-container-id-1 div.sk-estimator:hover label.sk-toggleable__label-arrow:before {color: black;}#sk-container-id-1 div.sk-toggleable__content {max-height: 0;max-width: 0;overflow: hidden;text-align: left;background-color: #f0f8ff;}#sk-container-id-1 div.sk-toggleable__content pre {margin: 0.2em;color: black;border-radius: 0.25em;background-color: #f0f8ff;}#sk-container-id-1 input.sk-toggleable__control:checked~div.sk-toggleable__content {max-height: 200px;max-width: 100%;overflow: auto;}#sk-container-id-1 input.sk-toggleable__control:checked~label.sk-toggleable__label-arrow:before {content: \"▾\";}#sk-container-id-1 div.sk-estimator input.sk-toggleable__control:checked~label.sk-toggleable__label {background-color: #d4ebff;}#sk-container-id-1 div.sk-label input.sk-toggleable__control:checked~label.sk-toggleable__label {background-color: #d4ebff;}#sk-container-id-1 input.sk-hidden--visually {border: 0;clip: rect(1px 1px 1px 1px);clip: rect(1px, 1px, 1px, 1px);height: 1px;margin: -1px;overflow: hidden;padding: 0;position: absolute;width: 1px;}#sk-container-id-1 div.sk-estimator {font-family: monospace;background-color: #f0f8ff;border: 1px dotted black;border-radius: 0.25em;box-sizing: border-box;margin-bottom: 0.5em;}#sk-container-id-1 div.sk-estimator:hover {background-color: #d4ebff;}#sk-container-id-1 div.sk-parallel-item::after {content: \"\";width: 100%;border-bottom: 1px solid gray;flex-grow: 1;}#sk-container-id-1 div.sk-label:hover label.sk-toggleable__label {background-color: #d4ebff;}#sk-container-id-1 div.sk-serial::before {content: \"\";position: absolute;border-left: 1px solid gray;box-sizing: border-box;top: 0;bottom: 0;left: 50%;z-index: 0;}#sk-container-id-1 div.sk-serial {display: flex;flex-direction: column;align-items: center;background-color: white;padding-right: 0.2em;padding-left: 0.2em;position: relative;}#sk-container-id-1 div.sk-item {position: relative;z-index: 1;}#sk-container-id-1 div.sk-parallel {display: flex;align-items: stretch;justify-content: center;background-color: white;position: relative;}#sk-container-id-1 div.sk-item::before, #sk-container-id-1 div.sk-parallel-item::before {content: \"\";position: absolute;border-left: 1px solid gray;box-sizing: border-box;top: 0;bottom: 0;left: 50%;z-index: -1;}#sk-container-id-1 div.sk-parallel-item {display: flex;flex-direction: column;z-index: 1;position: relative;background-color: white;}#sk-container-id-1 div.sk-parallel-item:first-child::after {align-self: flex-end;width: 50%;}#sk-container-id-1 div.sk-parallel-item:last-child::after {align-self: flex-start;width: 50%;}#sk-container-id-1 div.sk-parallel-item:only-child::after {width: 0;}#sk-container-id-1 div.sk-dashed-wrapped {border: 1px dashed gray;margin: 0 0.4em 0.5em 0.4em;box-sizing: border-box;padding-bottom: 0.4em;background-color: white;}#sk-container-id-1 div.sk-label label {font-family: monospace;font-weight: bold;display: inline-block;line-height: 1.2em;}#sk-container-id-1 div.sk-label-container {text-align: center;}#sk-container-id-1 div.sk-container {/* jupyter's `normalize.less` sets `[hidden] { display: none; }` but bootstrap.min.css set `[hidden] { display: none !important; }` so we also need the `!important` here to be able to override the default hidden behavior on the sphinx rendered scikit-learn.org. See: https://github.com/scikit-learn/scikit-learn/issues/21755 */display: inline-block !important;position: relative;}#sk-container-id-1 div.sk-text-repr-fallback {display: none;}</style><div id=\"sk-container-id-1\" class=\"sk-top-container\"><div class=\"sk-text-repr-fallback\"><pre>LinearRegression()</pre><b>In a Jupyter environment, please rerun this cell to show the HTML representation or trust the notebook. <br />On GitHub, the HTML representation is unable to render, please try loading this page with nbviewer.org.</b></div><div class=\"sk-container\" hidden><div class=\"sk-item\"><div class=\"sk-estimator sk-toggleable\"><input class=\"sk-toggleable__control sk-hidden--visually\" id=\"sk-estimator-id-1\" type=\"checkbox\" checked><label for=\"sk-estimator-id-1\" class=\"sk-toggleable__label sk-toggleable__label-arrow\">LinearRegression</label><div class=\"sk-toggleable__content\"><pre>LinearRegression()</pre></div></div></div></div></div>"
      ],
      "text/plain": [
       "LinearRegression()"
      ]
     },
     "execution_count": 11,
     "metadata": {},
     "output_type": "execute_result"
    }
   ],
   "source": [
    "# Train the model\n",
    "model = LinearRegression()\n",
    "model.fit(X_train, y_train)"
   ]
  },
  {
   "cell_type": "code",
   "execution_count": 12,
   "id": "38ae16db",
   "metadata": {
    "execution": {
     "iopub.execute_input": "2024-09-20T15:33:56.205287Z",
     "iopub.status.busy": "2024-09-20T15:33:56.204853Z",
     "iopub.status.idle": "2024-09-20T15:33:56.212905Z",
     "shell.execute_reply": "2024-09-20T15:33:56.211573Z"
    },
    "papermill": {
     "duration": 0.021585,
     "end_time": "2024-09-20T15:33:56.215547",
     "exception": false,
     "start_time": "2024-09-20T15:33:56.193962",
     "status": "completed"
    },
    "tags": []
   },
   "outputs": [],
   "source": [
    "# Make predictions\n",
    "y_pred = model.predict(X_test)"
   ]
  },
  {
   "cell_type": "code",
   "execution_count": 13,
   "id": "c40229b1",
   "metadata": {
    "execution": {
     "iopub.execute_input": "2024-09-20T15:33:56.235095Z",
     "iopub.status.busy": "2024-09-20T15:33:56.234544Z",
     "iopub.status.idle": "2024-09-20T15:33:56.243579Z",
     "shell.execute_reply": "2024-09-20T15:33:56.242242Z"
    },
    "papermill": {
     "duration": 0.022624,
     "end_time": "2024-09-20T15:33:56.246991",
     "exception": false,
     "start_time": "2024-09-20T15:33:56.224367",
     "status": "completed"
    },
    "tags": []
   },
   "outputs": [
    {
     "name": "stdout",
     "output_type": "stream",
     "text": [
      "Mean Squared Error: 1.7680190059690113e-22\n",
      "R-squared: 1.0\n"
     ]
    }
   ],
   "source": [
    "# Evaluate the model\n",
    "mse = mean_squared_error(y_test, y_pred)\n",
    "r2 = r2_score(y_test, y_pred)\n",
    "print(f'Mean Squared Error: {mse}')\n",
    "print(f'R-squared: {r2}')"
   ]
  },
  {
   "cell_type": "markdown",
   "id": "bb935dba",
   "metadata": {
    "papermill": {
     "duration": 0.00863,
     "end_time": "2024-09-20T15:33:56.264861",
     "exception": false,
     "start_time": "2024-09-20T15:33:56.256231",
     "status": "completed"
    },
    "tags": []
   },
   "source": [
    "### Future Analysis\n",
    "There are several avenues for future analysis:\n",
    "- Investigate the impact of different suppliers on sales.\n",
    "- Analyze seasonal trends in sales data.\n",
    "- Explore the relationship between farm location and product pricing.\n",
    "\n",
    "What do you think would be useful to explore next?"
   ]
  },
  {
   "cell_type": "markdown",
   "id": "9447d275",
   "metadata": {
    "papermill": {
     "duration": 0.008498,
     "end_time": "2024-09-20T15:33:56.282505",
     "exception": false,
     "start_time": "2024-09-20T15:33:56.274007",
     "status": "completed"
    },
    "tags": []
   },
   "source": [
    "## Credits\n",
    "This notebook was created with the help of [Devra AI data science assistant](https://devra.ai/ref/kaggle)"
   ]
  }
 ],
 "metadata": {
  "kernelspec": {
   "display_name": "Python 3",
   "language": "python",
   "name": "python3"
  },
  "language_info": {
   "codemirror_mode": {
    "name": "ipython",
    "version": 3
   },
   "file_extension": ".py",
   "mimetype": "text/x-python",
   "name": "python",
   "nbconvert_exporter": "python",
   "pygments_lexer": "ipython3",
   "version": "3.10.14"
  },
  "papermill": {
   "default_parameters": {},
   "duration": 8.122009,
   "end_time": "2024-09-20T15:33:57.014373",
   "environment_variables": {},
   "exception": null,
   "input_path": "__notebook__.ipynb",
   "output_path": "__notebook__.ipynb",
   "parameters": {},
   "start_time": "2024-09-20T15:33:48.892364",
   "version": "2.6.0"
  }
 },
 "nbformat": 4,
 "nbformat_minor": 5
}
